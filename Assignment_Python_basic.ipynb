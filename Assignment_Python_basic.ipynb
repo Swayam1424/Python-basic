{
  "nbformat": 4,
  "nbformat_minor": 0,
  "metadata": {
    "colab": {
      "provenance": []
    },
    "kernelspec": {
      "name": "python3",
      "display_name": "Python 3"
    },
    "language_info": {
      "name": "python"
    }
  },
  "cells": [
    {
      "cell_type": "markdown",
      "source": [
        "#Python basic"
      ],
      "metadata": {
        "id": "oVhy4qf-Sc8n"
      }
    },
    {
      "cell_type": "markdown",
      "source": [
        "1. What is Python, and why is it popular?\n",
        "\n",
        "ANS:- Python is a high-level, interpreted programming language known for its readability and simplicity. It is popular because of its vast libraries, strong community support, cross-platform compatibility, and suitability for tasks like web development, data analysis, AI/ML, and automation.\n",
        "\n",
        "2. What is an interpreter in Python?\n",
        "\n",
        "ANS:- An interpreter executes Python code line-by-line, converting high-level code into machine-understandable instructions at runtime.\n",
        "\n",
        "3.  What are pre-defined keywords in Python?\n",
        "\n",
        "ANS:- Keywords are reserved words like if, else, for, True, None, etc., that have special meanings and cannot be used for variables.\n",
        "\n",
        "4. Can keywords be used as variable names?\n",
        "\n",
        "ANS:- No, using keywords as variable names will result in a syntax error.\n",
        "\n",
        "5. What is mutability in Python?\n",
        "\n",
        "ANS:- Mutability refers to whether an object can be changed after it's created. Mutable objects (e.g., lists) can be modified\n",
        "\n",
        "6. Why are lists mutable, but tuples are immutable?\n",
        "\n",
        "ANS:- Lists are designed for dynamic content, so they support change. Tuples, used for fixed data, are made immutable for performance and reliability.\n",
        "\n",
        "7. What is the difference between “==” and “is” operators in Python?\n",
        "\n",
        "ANS:- == checks if the values are equal.\n",
        "\n",
        "is checks if the identities (memory addresses) are the same.\n",
        "\n",
        "8. What are logical operators in Python?\n",
        "\n",
        "ANS:- Logical operators include and, or, and not, used to combine or invert boolean expressions.\n",
        "\n",
        "9. What is type casting in Python?\n",
        "\n",
        "ANS :- Type casting is converting one data type to another, like from str to int.\n",
        "\n",
        "10. What is the Difference between implicit and explicit type casting?\n",
        "\n",
        "ANS:- Implicit: Python automatically converts (e.g., int to float).\n",
        "\n",
        "Explicit: Programmer manually converts using functions like int(), float().\n",
        "\n",
        "11. What is the Purpose of conditional statements in Python?\n",
        "\n",
        " ANS:- They allow decision-making in code using if, elif, and else blocks.\n",
        "\n",
        "12. How does the elif statement work?\n",
        "\n",
        "ANS:- elif stands for \"else if\", and it checks the next condition if the previous if or elif condition was false.\n",
        "\n",
        "13. What is the Difference between for and while loops?\n",
        "\n",
        "ANS:- for: Used when the number of iterations is known (e.g., looping over a list).\n",
        "\n",
        "while: Used when the condition is checked repeatedly until false.\n",
        "\n",
        "14. Describe a scenario where a while loop is more suitable than a for loop?\n",
        "\n",
        "ANS:- When the number of iterations is unknown in advance, such as waiting for user input to meet a condition.\n",
        "\n",
        "\n",
        "\n",
        "\n",
        "\n",
        "\n"
      ],
      "metadata": {
        "id": "kAmQbISJSuP9"
      }
    },
    {
      "cell_type": "code",
      "source": [
        "#Write a Python program to print \"Hello, World!\n",
        "\n",
        "print(\"Hello, World!\")\n"
      ],
      "metadata": {
        "colab": {
          "base_uri": "https://localhost:8080/"
        },
        "id": "rBN8Q17pZAUB",
        "outputId": "122c96cc-845c-49d7-e99d-d52639379dcc"
      },
      "execution_count": 13,
      "outputs": [
        {
          "output_type": "stream",
          "name": "stdout",
          "text": [
            "Hello, World!\n"
          ]
        }
      ]
    },
    {
      "cell_type": "code",
      "source": [
        "#Write a Python program that displays your name and age\n",
        "\n",
        "name = \"Swayam\"\n",
        "age = 21\n",
        "print(\"Name:\", name)\n",
        "print(\"Age:\", age)\n"
      ],
      "metadata": {
        "colab": {
          "base_uri": "https://localhost:8080/"
        },
        "id": "ZDtEdoSrbNc6",
        "outputId": "291783e5-4428-4ccc-b2cf-53b5dbecf8ae"
      },
      "execution_count": 16,
      "outputs": [
        {
          "output_type": "stream",
          "name": "stdout",
          "text": [
            "Name: Swayam\n",
            "Age: 21\n"
          ]
        }
      ]
    },
    {
      "cell_type": "code",
      "source": [
        "#Write code to print all the pre-defined keywords in Python using the keyword library\n",
        "\n",
        "import keyword\n",
        "print(keyword.kwlist)"
      ],
      "metadata": {
        "colab": {
          "base_uri": "https://localhost:8080/"
        },
        "id": "FVHrhtU5buY4",
        "outputId": "bd1a20a0-63fc-4fd1-fb57-286a76562d00"
      },
      "execution_count": 15,
      "outputs": [
        {
          "output_type": "stream",
          "name": "stdout",
          "text": [
            "['False', 'None', 'True', 'and', 'as', 'assert', 'async', 'await', 'break', 'class', 'continue', 'def', 'del', 'elif', 'else', 'except', 'finally', 'for', 'from', 'global', 'if', 'import', 'in', 'is', 'lambda', 'nonlocal', 'not', 'or', 'pass', 'raise', 'return', 'try', 'while', 'with', 'yield']\n"
          ]
        }
      ]
    },
    {
      "cell_type": "code",
      "source": [
        "#Write a program that checks if a given word is a Python keyword\n",
        "\n",
        "import keyword\n",
        "\n",
        "word = input(\"Enter a word: \")\n",
        "\n",
        "print(keyword.iskeyword(word))"
      ],
      "metadata": {
        "colab": {
          "base_uri": "https://localhost:8080/"
        },
        "id": "Wi03Q8YHk_f7",
        "outputId": "4ee6c51c-7c13-47b3-81ce-ed1c8f231920"
      },
      "execution_count": 42,
      "outputs": [
        {
          "output_type": "stream",
          "name": "stdout",
          "text": [
            "Enter a word: class\n",
            "True\n"
          ]
        }
      ]
    },
    {
      "cell_type": "code",
      "source": [
        "#Write a program that checks if a given word is a Python keyword\n",
        "\n",
        "import keyword\n",
        "\n",
        "word = input(\"Enter a word: \")\n",
        "\n",
        "print(keyword.iskeyword(word))"
      ],
      "metadata": {
        "colab": {
          "base_uri": "https://localhost:8080/"
        },
        "id": "bpX3z0_lcZJF",
        "outputId": "90bc2e12-601c-46da-ace2-0acc8ccad5e6"
      },
      "execution_count": 51,
      "outputs": [
        {
          "output_type": "stream",
          "name": "stdout",
          "text": [
            "Enter a word: 1\n",
            "False\n"
          ]
        }
      ]
    },
    {
      "cell_type": "code",
      "source": [
        "# Create a list and tuple in Python, and demonstrate how attempting to change an element works differently for each\n",
        "\n",
        "# Create a list and a tuple\n",
        "my_list = [10, 20, 30]\n",
        "my_tuple = (10, 20, 30)\n",
        "\n",
        "# Modify an element in the list\n",
        "my_list[1] = 99\n",
        "print(\"Modified list:\", my_list)\n",
        "\n",
        "# Attempt to modify an element in the tuple\n",
        "try:\n",
        "    my_tuple[1] = 99\n",
        "except TypeError as e:\n",
        "    print(\"Error when modifying tuple:\", e)\n",
        "\n",
        "# Final output of tuple\n",
        "print(\"Original tuple remains unchanged:\", my_tuple)\n"
      ],
      "metadata": {
        "colab": {
          "base_uri": "https://localhost:8080/"
        },
        "id": "aP68OeW0d71X",
        "outputId": "a15237f6-82e9-4659-9658-be89baf62de3"
      },
      "execution_count": 23,
      "outputs": [
        {
          "output_type": "stream",
          "name": "stdout",
          "text": [
            "Modified list: [10, 99, 30]\n",
            "Error when modifying tuple: 'tuple' object does not support item assignment\n",
            "Original tuple remains unchanged: (10, 20, 30)\n"
          ]
        }
      ]
    },
    {
      "cell_type": "code",
      "source": [
        "#Write a function to demonstrate the behavior of mutable and immutable arguments.\n",
        "\n",
        "def modify_data(lst, tup):\n",
        "    lst[0] = 100\n",
        "    try:\n",
        "        tup[0] = 100\n",
        "    except TypeError:\n",
        "        print(\"Tuple is immutable\")\n",
        "\n",
        "my_list = [1, 2, 3]\n",
        "my_tuple = (1, 2, 3)\n",
        "modify_data(my_list, my_tuple)\n",
        "print(\"List:\", my_list)\n",
        "print(\"Tuple:\", my_tuple)\n",
        "\n"
      ],
      "metadata": {
        "colab": {
          "base_uri": "https://localhost:8080/"
        },
        "id": "bJsXc6aNe1uj",
        "outputId": "60e036dc-abb4-4e20-c3e0-cd19818f5192"
      },
      "execution_count": 24,
      "outputs": [
        {
          "output_type": "stream",
          "name": "stdout",
          "text": [
            "Tuple is immutable\n",
            "List: [100, 2, 3]\n",
            "Tuple: (1, 2, 3)\n"
          ]
        }
      ]
    },
    {
      "cell_type": "code",
      "source": [
        "#Write a program that performs basic arithmetic operations on two user-input numbers.\n",
        "a = float(input(\"Enter first number: \"))\n",
        "b = float(input(\"Enter second number: \"))\n",
        "print(\"Sum:\", a + b)\n",
        "print(\"Difference:\", a - b)\n",
        "print(\"Product:\", a * b)\n",
        "print(\"Quotient:\", a / b)\n",
        "\n"
      ],
      "metadata": {
        "colab": {
          "base_uri": "https://localhost:8080/"
        },
        "id": "5oY0kkuYk0W7",
        "outputId": "9246125c-eaef-4a15-b8d2-9e3f6b614db3"
      },
      "execution_count": 52,
      "outputs": [
        {
          "output_type": "stream",
          "name": "stdout",
          "text": [
            "Enter first number: 1\n",
            "Enter second number: 1\n",
            "Sum: 2.0\n",
            "Difference: 0.0\n",
            "Product: 1.0\n",
            "Quotient: 1.0\n"
          ]
        }
      ]
    },
    {
      "cell_type": "code",
      "source": [
        " #Write a program to demonstrate the use of logical operators\n",
        "\n",
        "a = 10\n",
        "b = 20\n",
        "print(a > 5 and b > 15)\n",
        "print(a < 5 or b > 15)\n",
        "print(not (a == 10))"
      ],
      "metadata": {
        "colab": {
          "base_uri": "https://localhost:8080/"
        },
        "id": "5MkZ-PoQgMSL",
        "outputId": "2f6f5abe-e640-4c45-ff83-971c8ad660ea"
      },
      "execution_count": 27,
      "outputs": [
        {
          "output_type": "stream",
          "name": "stdout",
          "text": [
            "True\n",
            "True\n",
            "False\n"
          ]
        }
      ]
    },
    {
      "cell_type": "code",
      "source": [
        "#Write a Python program to convert user input from string to integer, float, and boolean types\n",
        "user_input = input(\"Enter something: \")\n",
        "print(int(user_input))\n",
        "print(float(user_input))\n",
        "print(bool(user_input))\n",
        "\n",
        "\n"
      ],
      "metadata": {
        "colab": {
          "base_uri": "https://localhost:8080/"
        },
        "id": "SnHFOhpWg0dG",
        "outputId": "4987c22d-85f6-4485-826a-1a924330befd"
      },
      "execution_count": 50,
      "outputs": [
        {
          "output_type": "stream",
          "name": "stdout",
          "text": [
            "Enter something: 1\n",
            "1\n",
            "1.0\n",
            "True\n"
          ]
        }
      ]
    },
    {
      "cell_type": "code",
      "source": [
        "#Write code to demonstrate type casting with list elements\n",
        "str_list = [\"1\", \"2\", \"3\"]\n",
        "int_list = [int(i) for i in str_list]\n",
        "print(int_list)\n"
      ],
      "metadata": {
        "colab": {
          "base_uri": "https://localhost:8080/"
        },
        "id": "_oCosBpvmygU",
        "outputId": "6cf14589-f0fc-4ee3-ed92-5d4571d555cf"
      },
      "execution_count": 49,
      "outputs": [
        {
          "output_type": "stream",
          "name": "stdout",
          "text": [
            "[1, 2, 3]\n"
          ]
        }
      ]
    },
    {
      "cell_type": "code",
      "source": [
        "#Write a program that checks if a number is positive, negative, or zero\n",
        "num = float(input(\"Enter a number: \"))\n",
        "if num > 0:\n",
        "    print(\"Positive\")\n",
        "elif num < 0:\n",
        "    print(\"Negative\")\n",
        "else:\n",
        "    print(\"Zero\")"
      ],
      "metadata": {
        "colab": {
          "base_uri": "https://localhost:8080/"
        },
        "id": "VjxyL0mHm37o",
        "outputId": "80e8fd70-81a9-44d4-8a0f-98c814037942"
      },
      "execution_count": 48,
      "outputs": [
        {
          "output_type": "stream",
          "name": "stdout",
          "text": [
            "Enter a number: 1\n",
            "Positive\n"
          ]
        }
      ]
    },
    {
      "cell_type": "code",
      "source": [
        "#Write a for loop to print numbers from 1 to 10\n",
        "for i in range(1, 11):\n",
        "    print(i)"
      ],
      "metadata": {
        "colab": {
          "base_uri": "https://localhost:8080/"
        },
        "id": "oHOZDWKnm33f",
        "outputId": "9bf42c84-30df-4216-9ec2-26775be216f6"
      },
      "execution_count": 47,
      "outputs": [
        {
          "output_type": "stream",
          "name": "stdout",
          "text": [
            "1\n",
            "2\n",
            "3\n",
            "4\n",
            "5\n",
            "6\n",
            "7\n",
            "8\n",
            "9\n",
            "10\n"
          ]
        }
      ]
    },
    {
      "cell_type": "code",
      "source": [
        "# Write a Python program to find the sum of all even numbers between 1 and 50.\n",
        "total = 0\n",
        "for i in range(2, 51, 2):\n",
        "    total += i\n",
        "print(\"Sum:\", total)"
      ],
      "metadata": {
        "colab": {
          "base_uri": "https://localhost:8080/"
        },
        "id": "rDBGq-Dlm3zy",
        "outputId": "ad0a31e6-f3b9-4bfa-fb74-a9bc8368553a"
      },
      "execution_count": 46,
      "outputs": [
        {
          "output_type": "stream",
          "name": "stdout",
          "text": [
            "Sum: 650\n"
          ]
        }
      ]
    },
    {
      "cell_type": "code",
      "source": [
        "#Write a program to reverse a string using a while loop.\n",
        "\n",
        "text = input(\"Enter a string: \")\n",
        "reversed_text = \"\"\n",
        "i = len(text) - 1\n",
        "while i >= 0:\n",
        "    reversed_text += text[i]\n",
        "    i -= 1\n",
        "print(\"Reversed:\", reversed_text)\n"
      ],
      "metadata": {
        "colab": {
          "base_uri": "https://localhost:8080/"
        },
        "id": "eCsz4nnZnMLj",
        "outputId": "98420821-b92d-487e-9de4-e7baaef24dc1"
      },
      "execution_count": 45,
      "outputs": [
        {
          "output_type": "stream",
          "name": "stdout",
          "text": [
            "Enter a string: 1\n",
            "Reversed: 1\n"
          ]
        }
      ]
    },
    {
      "cell_type": "code",
      "source": [
        "#Write a Python program to calculate the factorial of a number provided by the user using a while loop.\n",
        "n = int(input(\"Enter a number: \"))\n",
        "fact = 1\n",
        "i = 1\n",
        "while i <= n:\n",
        "    fact *= i\n",
        "    i += 1\n",
        "print(\"Factorial:\", fact)"
      ],
      "metadata": {
        "colab": {
          "base_uri": "https://localhost:8080/"
        },
        "id": "C87Ousm0nOMq",
        "outputId": "b4fe5ef3-3b4e-40b0-c56e-936f331fa770"
      },
      "execution_count": 44,
      "outputs": [
        {
          "output_type": "stream",
          "name": "stdout",
          "text": [
            "Enter a number: 1\n",
            "Factorial: 1\n"
          ]
        }
      ]
    }
  ]
}